{
 "cells": [
  {
   "cell_type": "code",
   "id": "initial_id",
   "metadata": {
    "collapsed": true,
    "ExecuteTime": {
     "end_time": "2024-12-17T15:51:21.288716Z",
     "start_time": "2024-12-17T15:51:18.332307Z"
    }
   },
   "source": [
    "import torch\n",
    "import os\n",
    "from datetime import datetime\n",
    "\n",
    "# Import your custom modules\n",
    "from config.Experiment_Config import (\n",
    "    ExperimentConfig,\n",
    "    ModelSettings,\n",
    "    TrainingSettings,\n",
    "    DataSettings,\n",
    "    ModelSelection,\n",
    "    TokenizerSettings\n",
    ")\n",
    "from models.LSTM.BiLSTM import BiLSTM\n",
    "from models.LSTM.CNNBiLSTM import CNNBiLSTM\n",
    "from utils.load_split import loader\n",
    "from exp.trainer import Trainer\n",
    "import matplotlib.pyplot as plt\n",
    "import joblib\n"
   ],
   "outputs": [
    {
     "name": "stderr",
     "output_type": "stream",
     "text": [
      "/Users/yunkaigao/opt/anaconda3/envs/multi_turn/lib/python3.10/site-packages/tqdm/auto.py:21: TqdmWarning: IProgress not found. Please update jupyter and ipywidgets. See https://ipywidgets.readthedocs.io/en/stable/user_install.html\n",
      "  from .autonotebook import tqdm as notebook_tqdm\n"
     ]
    }
   ],
   "execution_count": 1
  },
  {
   "metadata": {
    "ExecuteTime": {
     "end_time": "2024-12-17T15:51:21.294365Z",
     "start_time": "2024-12-17T15:51:21.292524Z"
    }
   },
   "cell_type": "code",
   "source": [
    "model_settings = ModelSettings(\n",
    "    input_dim=768,  # For BERT base\n",
    "    output_dim=3,   # Number of classes\n",
    "    hidden_dims=[512, 256, 128],\n",
    "    embedding_dim=768,\n",
    "    embedding_type='BERT_base_uncased',\n",
    "    lags=5,\n",
    "    dropout_rate=0.2\n",
    ")"
   ],
   "id": "876b89cded6a8a23",
   "outputs": [],
   "execution_count": 2
  },
  {
   "metadata": {
    "ExecuteTime": {
     "end_time": "2024-12-17T15:51:21.329533Z",
     "start_time": "2024-12-17T15:51:21.327579Z"
    }
   },
   "cell_type": "code",
   "source": [
    "training_settings = TrainingSettings(\n",
    "    num_epochs=100,\n",
    "    batch_size=32,\n",
    "    learning_rate=0.001,\n",
    "    weight_decay=0.01,\n",
    "    gradient_clip=1.0,\n",
    "    early_stopping_patience=5,\n",
    "    save_model_dir='saved_models',\n",
    "    save_results_dir='results'\n",
    ")\n"
   ],
   "id": "c95e072e305efb30",
   "outputs": [],
   "execution_count": 3
  },
  {
   "metadata": {
    "ExecuteTime": {
     "end_time": "2024-12-17T15:51:21.335689Z",
     "start_time": "2024-12-17T15:51:21.333906Z"
    }
   },
   "cell_type": "code",
   "source": [
    "data_settings = DataSettings(\n",
    "    which=\"question\",\n",
    "    train_size=0.8,\n",
    "    val_size=0.1,\n",
    "    test_size=0.1,\n",
    "    batch_size=32,\n",
    "    shuffle=True,\n",
    "    drop_last=True\n",
    ")"
   ],
   "id": "fb20cc5370fb5233",
   "outputs": [],
   "execution_count": 4
  },
  {
   "metadata": {
    "ExecuteTime": {
     "end_time": "2024-12-17T15:51:21.341896Z",
     "start_time": "2024-12-17T15:51:21.340103Z"
    }
   },
   "cell_type": "code",
   "source": [
    "model_selection = ModelSelection(\n",
    "    model_type='CNNBiLSTM',\n",
    "    use_cnn=True,\n",
    "    cnn_layers=2\n",
    ")"
   ],
   "id": "2c63545ade5bac23",
   "outputs": [],
   "execution_count": 5
  },
  {
   "metadata": {
    "ExecuteTime": {
     "end_time": "2024-12-17T15:51:21.347995Z",
     "start_time": "2024-12-17T15:51:21.346112Z"
    }
   },
   "cell_type": "code",
   "source": [
    "tokenizer_settings = TokenizerSettings(\n",
    "    name=\"BERT_base_uncased\",\n",
    "    embedding_type=\"bert\",\n",
    "    truncation=\"ratio\",  # or \"equal\"\n",
    "    max_length=512,\n",
    "    padding=True,\n",
    "    add_special_tokens=True\n",
    ")"
   ],
   "id": "125a53588592b237",
   "outputs": [],
   "execution_count": 6
  },
  {
   "metadata": {
    "ExecuteTime": {
     "end_time": "2024-12-17T15:51:21.357151Z",
     "start_time": "2024-12-17T15:51:21.355308Z"
    }
   },
   "cell_type": "code",
   "source": [
    "config = ExperimentConfig(\n",
    "    model_settings=model_settings,\n",
    "    training_settings=training_settings,\n",
    "    data_settings=data_settings,\n",
    "    model_selection=model_selection,\n",
    "    tokenizer_settings=tokenizer_settings\n",
    ")"
   ],
   "id": "de83d11d69e94a7e",
   "outputs": [],
   "execution_count": 7
  },
  {
   "metadata": {
    "ExecuteTime": {
     "end_time": "2024-12-17T15:51:21.362268Z",
     "start_time": "2024-12-17T15:51:21.360138Z"
    }
   },
   "cell_type": "code",
   "source": [
    "device = torch.device(\"cuda\" if torch.cuda.is_available() else \"cpu\")\n",
    "config.training_settings.device = device\n",
    "\n",
    "print(f\"Using device: {device}\")\n",
    "print(f\"Model type: {config.model_selection.model_type}\")"
   ],
   "id": "c3c08fdc8ed910c9",
   "outputs": [
    {
     "name": "stdout",
     "output_type": "stream",
     "text": [
      "Using device: cpu\n",
      "Model type: CNNBiLSTM\n"
     ]
    }
   ],
   "execution_count": 8
  },
  {
   "metadata": {
    "ExecuteTime": {
     "end_time": "2024-12-17T15:51:30.032492Z",
     "start_time": "2024-12-17T15:51:21.367234Z"
    }
   },
   "cell_type": "code",
   "source": [
    "train_loader, val_loader, test_loader, label_encoder = loader(config)\n",
    "joblib.dump(label_encoder, 'label_encoder.pkl')\n",
    "num_classes = len(label_encoder.classes_)"
   ],
   "id": "f63d0c7f45808e8a",
   "outputs": [
    {
     "name": "stderr",
     "output_type": "stream",
     "text": [
      "Token indices sequence length is longer than the specified maximum sequence length for this model (1024 > 512). Running this sequence through the model will result in indexing errors\n"
     ]
    }
   ],
   "execution_count": 9
  },
  {
   "metadata": {
    "ExecuteTime": {
     "end_time": "2024-12-17T15:51:30.092116Z",
     "start_time": "2024-12-17T15:51:30.038555Z"
    }
   },
   "cell_type": "code",
   "source": [
    "if config.model_selection.model_type == 'BiLSTM':\n",
    "    model = BiLSTM(config.model_settings)\n",
    "elif config.model_selection.model_type == 'CNNBiLSTM':\n",
    "    model = CNNBiLSTM(config.model_settings)\n",
    "\n",
    "model = model.to(device)"
   ],
   "id": "73e456f2d61286f",
   "outputs": [],
   "execution_count": 10
  },
  {
   "metadata": {
    "ExecuteTime": {
     "end_time": "2024-12-17T15:51:30.524634Z",
     "start_time": "2024-12-17T15:51:30.098001Z"
    }
   },
   "cell_type": "code",
   "source": [
    "trainer = Trainer(\n",
    "    model=model,\n",
    "    train_loader=train_loader,\n",
    "    val_loader=val_loader,\n",
    "    test_loader=test_loader,\n",
    "    config=config\n",
    ")\n",
    "\n",
    "# Train model\n",
    "print(\"Starting training...\")\n",
    "metrics_history = trainer.train()"
   ],
   "id": "e548caf5142ff5f9",
   "outputs": [
    {
     "name": "stdout",
     "output_type": "stream",
     "text": [
      "Starting training...\n",
      "Training on device: cpu\n",
      "\n",
      "Epoch 1/100 - train\n"
     ]
    },
    {
     "name": "stderr",
     "output_type": "stream",
     "text": [
      "Training:   0%|          | 0/127 [00:00<?, ?it/s]huggingface/tokenizers: The current process just got forked, after parallelism has already been used. Disabling parallelism to avoid deadlocks...\n",
      "To disable this warning, you can either:\n",
      "\t- Avoid using `tokenizers` before the fork if possible\n",
      "\t- Explicitly set the environment variable TOKENIZERS_PARALLELISM=(true | false)\n",
      "Training:   0%|          | 0/127 [00:00<?, ?it/s]\n"
     ]
    },
    {
     "ename": "TypeError",
     "evalue": "list indices must be integers or slices, not str",
     "output_type": "error",
     "traceback": [
      "\u001B[0;31m---------------------------------------------------------------------------\u001B[0m",
      "\u001B[0;31mTypeError\u001B[0m                                 Traceback (most recent call last)",
      "Cell \u001B[0;32mIn[11], line 11\u001B[0m\n\u001B[1;32m      9\u001B[0m \u001B[38;5;66;03m# Train model\u001B[39;00m\n\u001B[1;32m     10\u001B[0m \u001B[38;5;28mprint\u001B[39m(\u001B[38;5;124m\"\u001B[39m\u001B[38;5;124mStarting training...\u001B[39m\u001B[38;5;124m\"\u001B[39m)\n\u001B[0;32m---> 11\u001B[0m metrics_history \u001B[38;5;241m=\u001B[39m \u001B[43mtrainer\u001B[49m\u001B[38;5;241;43m.\u001B[39;49m\u001B[43mtrain\u001B[49m\u001B[43m(\u001B[49m\u001B[43m)\u001B[49m\n",
      "File \u001B[0;32m~/Library/CloudStorage/OneDrive-Personal/Program/Py/project/Multi_turn/exp/trainer.py:227\u001B[0m, in \u001B[0;36mTrainer.train\u001B[0;34m(self)\u001B[0m\n\u001B[1;32m    222\u001B[0m \u001B[38;5;28mprint\u001B[39m(\n\u001B[1;32m    223\u001B[0m     \u001B[38;5;124mf\u001B[39m\u001B[38;5;124m\"\u001B[39m\u001B[38;5;130;01m\\n\u001B[39;00m\u001B[38;5;124mEpoch \u001B[39m\u001B[38;5;132;01m{\u001B[39;00mepoch\u001B[38;5;250m \u001B[39m\u001B[38;5;241m+\u001B[39m\u001B[38;5;250m \u001B[39m\u001B[38;5;241m1\u001B[39m\u001B[38;5;132;01m}\u001B[39;00m\u001B[38;5;124m/\u001B[39m\u001B[38;5;132;01m{\u001B[39;00m\u001B[38;5;28mself\u001B[39m\u001B[38;5;241m.\u001B[39mconfig\u001B[38;5;241m.\u001B[39mtraining_settings\u001B[38;5;241m.\u001B[39mnum_epochs\u001B[38;5;132;01m}\u001B[39;00m\u001B[38;5;124m - \u001B[39m\u001B[38;5;124m\"\u001B[39m\n\u001B[1;32m    224\u001B[0m     \u001B[38;5;124mf\u001B[39m\u001B[38;5;124m\"\u001B[39m\u001B[38;5;132;01m{\u001B[39;00m\u001B[38;5;28mself\u001B[39m\u001B[38;5;241m.\u001B[39mconfig\u001B[38;5;241m.\u001B[39mtraining_settings\u001B[38;5;241m.\u001B[39mexperiment_name\u001B[38;5;132;01m}\u001B[39;00m\u001B[38;5;124m\"\u001B[39m)\n\u001B[1;32m    226\u001B[0m \u001B[38;5;66;03m# Training phase\u001B[39;00m\n\u001B[0;32m--> 227\u001B[0m train_metrics \u001B[38;5;241m=\u001B[39m \u001B[38;5;28;43mself\u001B[39;49m\u001B[38;5;241;43m.\u001B[39;49m\u001B[43mtrain_epoch\u001B[49m\u001B[43m(\u001B[49m\u001B[43m)\u001B[49m\n\u001B[1;32m    229\u001B[0m \u001B[38;5;66;03m# Validation phase\u001B[39;00m\n\u001B[1;32m    230\u001B[0m val_metrics, val_preds, val_labels \u001B[38;5;241m=\u001B[39m \u001B[38;5;28mself\u001B[39m\u001B[38;5;241m.\u001B[39mevaluate(\u001B[38;5;28mself\u001B[39m\u001B[38;5;241m.\u001B[39mval_loader)\n",
      "File \u001B[0;32m~/Library/CloudStorage/OneDrive-Personal/Program/Py/project/Multi_turn/exp/trainer.py:97\u001B[0m, in \u001B[0;36mTrainer.train_epoch\u001B[0;34m(self)\u001B[0m\n\u001B[1;32m     94\u001B[0m \u001B[38;5;28;01mfor\u001B[39;00m batch \u001B[38;5;129;01min\u001B[39;00m tqdm(\u001B[38;5;28mself\u001B[39m\u001B[38;5;241m.\u001B[39mtrain_loader, desc\u001B[38;5;241m=\u001B[39m\u001B[38;5;124m'\u001B[39m\u001B[38;5;124mTraining\u001B[39m\u001B[38;5;124m'\u001B[39m):\n\u001B[1;32m     95\u001B[0m     \u001B[38;5;28mself\u001B[39m\u001B[38;5;241m.\u001B[39moptimizer\u001B[38;5;241m.\u001B[39mzero_grad()\n\u001B[0;32m---> 97\u001B[0m     inputs \u001B[38;5;241m=\u001B[39m \u001B[43mbatch\u001B[49m\u001B[43m[\u001B[49m\u001B[38;5;124;43m'\u001B[39;49m\u001B[38;5;124;43minput_ids\u001B[39;49m\u001B[38;5;124;43m'\u001B[39;49m\u001B[43m]\u001B[49m\u001B[38;5;241m.\u001B[39mto(\u001B[38;5;28mself\u001B[39m\u001B[38;5;241m.\u001B[39mconfig\u001B[38;5;241m.\u001B[39mtraining_settings\u001B[38;5;241m.\u001B[39mdevice)\n\u001B[1;32m     98\u001B[0m     labels \u001B[38;5;241m=\u001B[39m batch[\u001B[38;5;124m'\u001B[39m\u001B[38;5;124mlabels\u001B[39m\u001B[38;5;124m'\u001B[39m]\u001B[38;5;241m.\u001B[39mto(\u001B[38;5;28mself\u001B[39m\u001B[38;5;241m.\u001B[39mconfig\u001B[38;5;241m.\u001B[39mtraining_settings\u001B[38;5;241m.\u001B[39mdevice)\n\u001B[1;32m    100\u001B[0m     outputs, _ \u001B[38;5;241m=\u001B[39m \u001B[38;5;28mself\u001B[39m\u001B[38;5;241m.\u001B[39mmodel(inputs)\n",
      "\u001B[0;31mTypeError\u001B[0m: list indices must be integers or slices, not str"
     ]
    }
   ],
   "execution_count": 11
  },
  {
   "metadata": {},
   "cell_type": "code",
   "outputs": [],
   "execution_count": null,
   "source": "%matplotlib inline",
   "id": "f0eb9693cd719cb4"
  },
  {
   "metadata": {},
   "cell_type": "code",
   "outputs": [],
   "execution_count": null,
   "source": [
    "plt.figure(figsize=(10, 5))\n",
    "plt.plot(trainer.train_losses, label='Training Loss')\n",
    "plt.plot(trainer.val_losses, label='Validation Loss')\n",
    "plt.title('Training and Validation Loss')\n",
    "plt.xlabel('Epoch')\n",
    "plt.ylabel('Loss')\n",
    "plt.legend()\n",
    "plt.show()\n",
    "\n",
    "# Print final test results\n",
    "print(\"\\nTest Results:\")\n",
    "test_metrics, _, _ = trainer.evaluate(test_loader, 'test')\n",
    "for metric, value in test_metrics.items():\n",
    "    print(f\"{metric}: {value:.4f}\")"
   ],
   "id": "f499edc661b718d1"
  }
 ],
 "metadata": {
  "kernelspec": {
   "display_name": "Python 3",
   "language": "python",
   "name": "python3"
  },
  "language_info": {
   "codemirror_mode": {
    "name": "ipython",
    "version": 2
   },
   "file_extension": ".py",
   "mimetype": "text/x-python",
   "name": "python",
   "nbconvert_exporter": "python",
   "pygments_lexer": "ipython2",
   "version": "2.7.6"
  }
 },
 "nbformat": 4,
 "nbformat_minor": 5
}
