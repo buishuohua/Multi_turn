{
 "cells": [
  {
   "cell_type": "code",
   "execution_count": 1,
   "id": "initial_id",
   "metadata": {
    "ExecuteTime": {
     "end_time": "2024-12-18T02:21:05.386722Z",
     "start_time": "2024-12-18T02:21:02.346764Z"
    },
    "collapsed": true
   },
   "outputs": [
    {
     "name": "stderr",
     "output_type": "stream",
     "text": [
      "c:\\Users\\yunkai\\.conda\\envs\\Multi_turn\\lib\\site-packages\\tqdm\\auto.py:21: TqdmWarning: IProgress not found. Please update jupyter and ipywidgets. See https://ipywidgets.readthedocs.io/en/stable/user_install.html\n",
      "  from .autonotebook import tqdm as notebook_tqdm\n"
     ]
    }
   ],
   "source": [
    "from config.Experiment_Config import ExperimentConfig\n",
    "from exp.trainer import Trainer"
   ]
  },
  {
   "cell_type": "code",
   "execution_count": 2,
   "id": "de83d11d69e94a7e",
   "metadata": {
    "ExecuteTime": {
     "end_time": "2024-12-18T02:21:05.456823Z",
     "start_time": "2024-12-18T02:21:05.455037Z"
    }
   },
   "outputs": [],
   "source": [
    "config = ExperimentConfig.get_default_config()\n",
    "config.training_settings.num_epochs = 1000\n",
    "config.training_settings.batch_size = 32\n",
    "config.tokenizer_settings.max_length = 256\n",
    "config.model_settings.weight_init = 'kaiming_normal'\n",
    "config.model_settings.init_hidden_dim = 384\n",
    "config.model_settings.activation = 'gelu'\n",
    "config.model_settings.fine_tune_embedding = False\n",
    "config.training_settings.early_stopping_patience = 100\n",
    "config.training_settings.gradient_clip = None\n",
    "config.training_settings.task_type = 'classification'\n",
    "config.model_settings.num_layers = 4\n",
    "config.model_settings.custom_hidden_dims = [768, 384, 192, 96]\n",
    "config.model_settings.use_res_net = True\n",
    "config.model_settings.use_attention = False\n",
    "config.training_settings.gradient_clip = 1.0\n",
    "config.training_settings.continue_training = True\n",
    "config.training_settings.learning_rate = 5e-5\n",
    "config.model_settings.use_layer_norm = True\n",
    "config.model_settings.fine_tune_embedding = True\n"
   ]
  },
  {
   "cell_type": "code",
   "execution_count": 3,
   "id": "e548caf5142ff5f9",
   "metadata": {
    "ExecuteTime": {
     "end_time": "2024-12-18T02:21:12.313680Z",
     "start_time": "2024-12-17T19:32:22.655999Z"
    }
   },
   "outputs": [
    {
     "name": "stderr",
     "output_type": "stream",
     "text": [
      "d:\\Program\\Py\\project\\Multi_turn\\models\\LSTM\\BaseLSTM.py:89: FutureWarning: You are using `torch.load` with `weights_only=False` (the current default value), which uses the default pickle module implicitly. It is possible to construct malicious pickle data which will execute arbitrary code during unpickling (See https://github.com/pytorch/pytorch/blob/main/SECURITY.md#untrusted-models for more details). In a future release, the default value for `weights_only` will be flipped to `True`. This limits the functions that could be executed during unpickling. Arbitrary objects will no longer be allowed to be loaded via this mode unless they are explicitly allowlisted by the user via `torch.serialization.add_safe_globals`. We recommend you start setting `weights_only=True` for any use case where you don't have full control of the loaded file. Please open an issue on GitHub for any issues related to this experimental feature.\n",
      "  checkpoint = torch.load(checkpoint_path)\n"
     ]
    },
    {
     "name": "stdout",
     "output_type": "stream",
     "text": [
      "\n",
      "[Fine-tuning] Loaded embedding model from epoch 10\n",
      "✅ Created all necessary directories\n",
      "\n",
      "==================================================\n",
      "EXPERIMENT CONFIGURATION\n",
      "==================================================\n",
      "\n",
      "📊 Experiment Name: CLS_ResBiLSTM_BERT_L4_H384_M256_LR5e-5_Actgelu_crossentropy_kaiming_FTLN\n",
      "📁 Model Directory: saved_models\\CLS_ResBiLSTM_BERT_L4_H384_M256_LR5e-5_Actgelu_crossentropy_kaiming_FTLN\n",
      "📈 Results Directory: results\\CLS_ResBiLSTM_BERT_L4_H384_M256_LR5e-5_Actgelu_crossentropy_kaiming_FTLN\n",
      "\n",
      "🔧 Model Configuration:\n",
      "- Model Type: BiLSTM\n",
      "- Embedding Type: BERT_base_uncased\n",
      "- Hidden Dimensions: [768, 384, 192, 96]\n",
      "- Bidirectional: True\n",
      "- Dropout Rate: 0.1\n",
      "- Attention: False\n",
      "- Fine-tune Embedding: True\n",
      "- Weight Init: kaiming_normal\n",
      "- Activation: gelu\n",
      "\n",
      "⚙️ Training Configuration:\n",
      "- Batch Size: 32\n",
      "- Max Length: 256\n",
      "- Learning Rate: 5e-05\n",
      "- Weight Decay: 0.01\n",
      "- Num Epochs: 1000\n",
      "- Loss Function: cross_entropy\n",
      "- Optimizer: adamw\n",
      "- Gradient Clipping: 1.0\n",
      "- Early Stopping Patience: 100\n",
      "- Scheduler Patience: 3\n",
      "- Scheduler Factor: 0.1\n",
      "- Min Learning Rate: 1e-06\n",
      "- Checkpoint Frequency: 10\n",
      "\n",
      "📊 Data Configuration:\n",
      "- Imbalanced Strategy: none\n",
      "- Number of Classes: 37\n",
      "\n",
      "📂 Directory Configuration:\n",
      "- Model Save Dir: saved_models\n",
      "- Results Save Dir: results\n",
      "- Fine-tuned Models Dir: fine_tuned_models\n",
      "\n",
      "💻 Hardware Configuration:\n",
      "- Device: cuda\n",
      "- MPS available: False\n",
      "- CUDA available: True\n",
      "- CUDA devices: 1\n",
      "\n",
      "📚 Dataset Information:\n",
      "- Training samples: 2039\n",
      "- Validation samples: 256\n",
      "- Test samples: 255\n",
      "- Number of batches (train): 63\n",
      "\n",
      "==================================================\n",
      "\n",
      "⚠️ No valid checkpoints found, starting fresh training\n",
      "⚠️ No checkpoint found, starting training from scratch\n",
      "\n",
      "──────────────────────────────────────────────────\n",
      "⏳ Epoch 1/1000\n",
      "──────────────────────────────────────────────────\n"
     ]
    },
    {
     "name": "stderr",
     "output_type": "stream",
     "text": [
      "Training:   0%|          | 0/63 [00:00<?, ?it/s]We strongly recommend passing in an `attention_mask` since your input_ids may be padded. See https://huggingface.co/docs/transformers/troubleshooting#incorrect-output-when-padding-tokens-arent-masked.\n",
      "Training: 100%|██████████| 63/63 [00:27<00:00,  2.32it/s]\n",
      "Evaluating (val): 100%|██████████| 8/8 [00:01<00:00,  6.71it/s]\n"
     ]
    },
    {
     "name": "stdout",
     "output_type": "stream",
     "text": [
      "\n",
      "📊 Train Metrics:\n",
      "Loss: 3.6123 | Accuracy: 0.0253\n",
      "Macro → P: 0.0061 | R: 0.0221 | F1: 0.0089\n",
      "Micro → P: 0.0253 | R: 0.0253 | F1: 0.0253\n",
      "\n",
      "\n",
      "\n",
      "📊 Validation Metrics:\n",
      "Loss: 3.6067 | Accuracy: 0.0430\n",
      "Macro → P: 0.0012 | R: 0.0270 | F1: 0.0022\n",
      "Micro → P: 0.0430 | R: 0.0430 | F1: 0.0430\n",
      "\n",
      "\n",
      "📈 Saved latest metrics plot at epoch 1\n",
      "🔄 Saved latest confusion matrices at epoch 1\n",
      "📊 Saved latest performance plots at epoch 1\n",
      "📈 Saved best metrics plot at epoch 1\n",
      "🔄 Saved best confusion matrices at epoch 1\n",
      "📊 Saved best performance plots at epoch 1\n",
      "📝 Saved latest model at epoch 1\n",
      "🏆 Saved best model at epoch 1\n",
      "\n",
      "──────────────────────────────────────────────────\n",
      "⏳ Epoch 2/1000\n",
      "──────────────────────────────────────────────────\n"
     ]
    },
    {
     "name": "stderr",
     "output_type": "stream",
     "text": [
      "Training: 100%|██████████| 63/63 [00:38<00:00,  1.62it/s]\n",
      "Evaluating (val): 100%|██████████| 8/8 [00:03<00:00,  2.22it/s]\n"
     ]
    },
    {
     "name": "stdout",
     "output_type": "stream",
     "text": [
      "\n",
      "📊 Train Metrics:\n",
      "Loss: 3.6076 | Accuracy: 0.0397\n",
      "Macro → P: 0.0122 | R: 0.0270 | F1: 0.0095\n",
      "Micro → P: 0.0397 | R: 0.0397 | F1: 0.0397\n",
      "\n",
      "\n",
      "\n",
      "📊 Validation Metrics:\n",
      "Loss: 3.6030 | Accuracy: 0.0469\n",
      "Macro → P: 0.0013 | R: 0.0270 | F1: 0.0024\n",
      "Micro → P: 0.0469 | R: 0.0469 | F1: 0.0469\n",
      "\n",
      "\n",
      "📈 Saved latest metrics plot at epoch 2\n",
      "🔄 Saved latest confusion matrices at epoch 2\n",
      "📊 Saved latest performance plots at epoch 2\n",
      "📈 Saved best metrics plot at epoch 2\n",
      "🔄 Saved best confusion matrices at epoch 2\n",
      "📊 Saved best performance plots at epoch 2\n",
      "📝 Saved latest model at epoch 2\n",
      "🏆 Saved best model at epoch 2\n",
      "\n",
      "──────────────────────────────────────────────────\n",
      "⏳ Epoch 3/1000\n",
      "──────────────────────────────────────────────────\n"
     ]
    },
    {
     "name": "stderr",
     "output_type": "stream",
     "text": [
      "Training: 100%|██████████| 63/63 [01:21<00:00,  1.29s/it]\n",
      "Evaluating (val): 100%|██████████| 8/8 [00:03<00:00,  2.16it/s]\n"
     ]
    },
    {
     "name": "stdout",
     "output_type": "stream",
     "text": [
      "\n",
      "📊 Train Metrics:\n",
      "Loss: 3.6063 | Accuracy: 0.0407\n",
      "Macro → P: 0.0033 | R: 0.0250 | F1: 0.0053\n",
      "Micro → P: 0.0407 | R: 0.0407 | F1: 0.0407\n",
      "\n",
      "\n",
      "\n",
      "📊 Validation Metrics:\n",
      "Loss: 3.6070 | Accuracy: 0.0312\n",
      "Macro → P: 0.0008 | R: 0.0270 | F1: 0.0016\n",
      "Micro → P: 0.0312 | R: 0.0312 | F1: 0.0312\n",
      "\n",
      "\n",
      "📈 Saved latest metrics plot at epoch 3\n",
      "🔄 Saved latest confusion matrices at epoch 3\n",
      "📊 Saved latest performance plots at epoch 3\n",
      "📝 Saved latest model at epoch 3\n",
      "\n",
      "──────────────────────────────────────────────────\n",
      "⏳ Epoch 4/1000\n",
      "──────────────────────────────────────────────────\n"
     ]
    },
    {
     "name": "stderr",
     "output_type": "stream",
     "text": [
      "Training: 100%|██████████| 63/63 [01:21<00:00,  1.29s/it]\n",
      "Evaluating (val): 100%|██████████| 8/8 [00:03<00:00,  2.25it/s]\n"
     ]
    },
    {
     "name": "stdout",
     "output_type": "stream",
     "text": [
      "\n",
      "📊 Train Metrics:\n",
      "Loss: 3.6084 | Accuracy: 0.0308\n",
      "Macro → P: 0.0044 | R: 0.0207 | F1: 0.0063\n",
      "Micro → P: 0.0308 | R: 0.0308 | F1: 0.0308\n",
      "\n",
      "\n",
      "\n",
      "📊 Validation Metrics:\n",
      "Loss: 3.6011 | Accuracy: 0.0430\n",
      "Macro → P: 0.0012 | R: 0.0270 | F1: 0.0022\n",
      "Micro → P: 0.0430 | R: 0.0430 | F1: 0.0430\n",
      "\n",
      "\n",
      "📈 Saved latest metrics plot at epoch 4\n",
      "🔄 Saved latest confusion matrices at epoch 4\n",
      "📊 Saved latest performance plots at epoch 4\n",
      "📈 Saved best metrics plot at epoch 4\n",
      "🔄 Saved best confusion matrices at epoch 4\n",
      "📊 Saved best performance plots at epoch 4\n",
      "📝 Saved latest model at epoch 4\n",
      "🏆 Saved best model at epoch 4\n",
      "\n",
      "──────────────────────────────────────────────────\n",
      "⏳ Epoch 5/1000\n",
      "──────────────────────────────────────────────────\n"
     ]
    },
    {
     "name": "stderr",
     "output_type": "stream",
     "text": [
      "Training: 100%|██████████| 63/63 [00:27<00:00,  2.28it/s]\n",
      "Evaluating (val): 100%|██████████| 8/8 [00:01<00:00,  7.05it/s]\n"
     ]
    },
    {
     "name": "stdout",
     "output_type": "stream",
     "text": [
      "\n",
      "📊 Train Metrics:\n",
      "Loss: 3.6061 | Accuracy: 0.0397\n",
      "Macro → P: 0.0062 | R: 0.0263 | F1: 0.0065\n",
      "Micro → P: 0.0397 | R: 0.0397 | F1: 0.0397\n",
      "\n",
      "\n",
      "\n",
      "📊 Validation Metrics:\n",
      "Loss: 3.6030 | Accuracy: 0.0430\n",
      "Macro → P: 0.0012 | R: 0.0270 | F1: 0.0022\n",
      "Micro → P: 0.0430 | R: 0.0430 | F1: 0.0430\n",
      "\n",
      "\n",
      "📈 Saved latest metrics plot at epoch 5\n",
      "🔄 Saved latest confusion matrices at epoch 5\n",
      "📊 Saved latest performance plots at epoch 5\n",
      "📝 Saved latest model at epoch 5\n",
      "\n",
      "──────────────────────────────────────────────────\n",
      "⏳ Epoch 6/1000\n",
      "──────────────────────────────────────────────────\n"
     ]
    },
    {
     "name": "stderr",
     "output_type": "stream",
     "text": [
      "Training: 100%|██████████| 63/63 [00:42<00:00,  1.48it/s]\n",
      "Evaluating (val): 100%|██████████| 8/8 [00:03<00:00,  2.07it/s]\n"
     ]
    },
    {
     "name": "stdout",
     "output_type": "stream",
     "text": [
      "\n",
      "📊 Train Metrics:\n",
      "Loss: 3.6069 | Accuracy: 0.0407\n",
      "Macro → P: 0.0093 | R: 0.0253 | F1: 0.0070\n",
      "Micro → P: 0.0407 | R: 0.0407 | F1: 0.0407\n",
      "\n",
      "\n",
      "\n",
      "📊 Validation Metrics:\n",
      "Loss: 3.6045 | Accuracy: 0.0469\n",
      "Macro → P: 0.0013 | R: 0.0270 | F1: 0.0024\n",
      "Micro → P: 0.0469 | R: 0.0469 | F1: 0.0469\n",
      "\n",
      "\n",
      "📈 Saved latest metrics plot at epoch 6\n",
      "🔄 Saved latest confusion matrices at epoch 6\n",
      "📊 Saved latest performance plots at epoch 6\n",
      "📝 Saved latest model at epoch 6\n",
      "\n",
      "──────────────────────────────────────────────────\n",
      "⏳ Epoch 7/1000\n",
      "──────────────────────────────────────────────────\n"
     ]
    },
    {
     "name": "stderr",
     "output_type": "stream",
     "text": [
      "Training: 100%|██████████| 63/63 [01:25<00:00,  1.35s/it]\n",
      "Evaluating (val): 100%|██████████| 8/8 [00:03<00:00,  2.05it/s]\n"
     ]
    },
    {
     "name": "stdout",
     "output_type": "stream",
     "text": [
      "\n",
      "📊 Train Metrics:\n",
      "Loss: 3.6069 | Accuracy: 0.0412\n",
      "Macro → P: 0.0056 | R: 0.0267 | F1: 0.0077\n",
      "Micro → P: 0.0412 | R: 0.0412 | F1: 0.0412\n",
      "\n",
      "\n",
      "\n",
      "📊 Validation Metrics:\n",
      "Loss: 3.6011 | Accuracy: 0.0469\n",
      "Macro → P: 0.0013 | R: 0.0270 | F1: 0.0024\n",
      "Micro → P: 0.0469 | R: 0.0469 | F1: 0.0469\n",
      "\n",
      "\n",
      "📈 Saved latest metrics plot at epoch 7\n",
      "🔄 Saved latest confusion matrices at epoch 7\n",
      "📊 Saved latest performance plots at epoch 7\n",
      "📝 Saved latest model at epoch 7\n",
      "\n",
      "──────────────────────────────────────────────────\n",
      "⏳ Epoch 8/1000\n",
      "──────────────────────────────────────────────────\n"
     ]
    },
    {
     "name": "stderr",
     "output_type": "stream",
     "text": [
      "Training: 100%|██████████| 63/63 [01:23<00:00,  1.32s/it]\n",
      "Evaluating (val): 100%|██████████| 8/8 [00:03<00:00,  2.16it/s]\n"
     ]
    },
    {
     "name": "stdout",
     "output_type": "stream",
     "text": [
      "\n",
      "📊 Train Metrics:\n",
      "Loss: 3.6028 | Accuracy: 0.0407\n",
      "Macro → P: 0.0042 | R: 0.0265 | F1: 0.0070\n",
      "Micro → P: 0.0407 | R: 0.0407 | F1: 0.0407\n",
      "\n",
      "\n",
      "\n",
      "📊 Validation Metrics:\n",
      "Loss: 3.6023 | Accuracy: 0.0469\n",
      "Macro → P: 0.0013 | R: 0.0270 | F1: 0.0024\n",
      "Micro → P: 0.0469 | R: 0.0469 | F1: 0.0469\n",
      "\n",
      "\n",
      "📈 Saved latest metrics plot at epoch 8\n",
      "🔄 Saved latest confusion matrices at epoch 8\n",
      "📊 Saved latest performance plots at epoch 8\n",
      "📝 Saved latest model at epoch 8\n",
      "\n",
      "──────────────────────────────────────────────────\n",
      "⏳ Epoch 9/1000\n",
      "──────────────────────────────────────────────────\n"
     ]
    },
    {
     "name": "stderr",
     "output_type": "stream",
     "text": [
      "Training: 100%|██████████| 63/63 [01:23<00:00,  1.33s/it]\n",
      "Evaluating (val): 100%|██████████| 8/8 [00:03<00:00,  2.18it/s]\n"
     ]
    },
    {
     "name": "stdout",
     "output_type": "stream",
     "text": [
      "\n",
      "📊 Train Metrics:\n",
      "Loss: 3.6065 | Accuracy: 0.0412\n",
      "Macro → P: 0.0075 | R: 0.0265 | F1: 0.0071\n",
      "Micro → P: 0.0412 | R: 0.0412 | F1: 0.0412\n",
      "\n",
      "\n",
      "\n",
      "📊 Validation Metrics:\n",
      "Loss: 3.6034 | Accuracy: 0.0430\n",
      "Macro → P: 0.0012 | R: 0.0270 | F1: 0.0022\n",
      "Micro → P: 0.0430 | R: 0.0430 | F1: 0.0430\n",
      "\n",
      "\n",
      "📈 Saved latest metrics plot at epoch 9\n",
      "🔄 Saved latest confusion matrices at epoch 9\n",
      "📊 Saved latest performance plots at epoch 9\n",
      "📝 Saved latest model at epoch 9\n",
      "\n",
      "──────────────────────────────────────────────────\n",
      "⏳ Epoch 10/1000\n",
      "──────────────────────────────────────────────────\n"
     ]
    },
    {
     "name": "stderr",
     "output_type": "stream",
     "text": [
      "Training: 100%|██████████| 63/63 [01:22<00:00,  1.31s/it]\n",
      "Evaluating (val): 100%|██████████| 8/8 [00:03<00:00,  2.15it/s]\n"
     ]
    },
    {
     "name": "stdout",
     "output_type": "stream",
     "text": [
      "\n",
      "📊 Train Metrics:\n",
      "Loss: 3.6078 | Accuracy: 0.0387\n",
      "Macro → P: 0.0119 | R: 0.0273 | F1: 0.0099\n",
      "Micro → P: 0.0387 | R: 0.0387 | F1: 0.0387\n",
      "\n",
      "\n",
      "\n",
      "📊 Validation Metrics:\n",
      "Loss: 3.6016 | Accuracy: 0.0430\n",
      "Macro → P: 0.0012 | R: 0.0270 | F1: 0.0022\n",
      "Micro → P: 0.0430 | R: 0.0430 | F1: 0.0430\n",
      "\n",
      "\n",
      "📈 Saved latest metrics plot at epoch 10\n",
      "🔄 Saved latest confusion matrices at epoch 10\n",
      "📊 Saved latest performance plots at epoch 10\n",
      "📈 Saved checkpoint metrics plot at epoch 10\n",
      "🔄 Saved checkpoint confusion matrices at epoch 10\n",
      "📊 Saved checkpoint performance plots at epoch 10\n",
      "📝 Saved latest model at epoch 10\n",
      "💾 Saved checkpoint at epoch 10\n",
      "\n",
      "──────────────────────────────────────────────────\n",
      "⏳ Epoch 11/1000\n",
      "──────────────────────────────────────────────────\n"
     ]
    },
    {
     "name": "stderr",
     "output_type": "stream",
     "text": [
      "Training: 100%|██████████| 63/63 [01:22<00:00,  1.31s/it]\n",
      "Evaluating (val): 100%|██████████| 8/8 [00:03<00:00,  2.13it/s]\n"
     ]
    },
    {
     "name": "stdout",
     "output_type": "stream",
     "text": [
      "\n",
      "📊 Train Metrics:\n",
      "Loss: 3.6048 | Accuracy: 0.0332\n",
      "Macro → P: 0.0035 | R: 0.0216 | F1: 0.0059\n",
      "Micro → P: 0.0332 | R: 0.0332 | F1: 0.0332\n",
      "\n",
      "\n",
      "\n",
      "📊 Validation Metrics:\n",
      "Loss: 3.6001 | Accuracy: 0.0430\n",
      "Macro → P: 0.0012 | R: 0.0270 | F1: 0.0022\n",
      "Micro → P: 0.0430 | R: 0.0430 | F1: 0.0430\n",
      "\n",
      "\n",
      "📈 Saved latest metrics plot at epoch 11\n",
      "🔄 Saved latest confusion matrices at epoch 11\n",
      "📊 Saved latest performance plots at epoch 11\n",
      "📈 Saved best metrics plot at epoch 11\n",
      "🔄 Saved best confusion matrices at epoch 11\n",
      "📊 Saved best performance plots at epoch 11\n",
      "📝 Saved latest model at epoch 11\n",
      "🏆 Saved best model at epoch 11\n",
      "\n",
      "──────────────────────────────────────────────────\n",
      "⏳ Epoch 12/1000\n",
      "──────────────────────────────────────────────────\n"
     ]
    },
    {
     "name": "stderr",
     "output_type": "stream",
     "text": [
      "Training: 100%|██████████| 63/63 [01:22<00:00,  1.31s/it]\n",
      "Evaluating (val): 100%|██████████| 8/8 [00:03<00:00,  2.18it/s]\n"
     ]
    },
    {
     "name": "stdout",
     "output_type": "stream",
     "text": [
      "\n",
      "📊 Train Metrics:\n",
      "Loss: 3.6049 | Accuracy: 0.0372\n",
      "Macro → P: 0.0038 | R: 0.0240 | F1: 0.0064\n",
      "Micro → P: 0.0372 | R: 0.0372 | F1: 0.0372\n",
      "\n",
      "\n",
      "\n",
      "📊 Validation Metrics:\n",
      "Loss: 3.5996 | Accuracy: 0.0469\n",
      "Macro → P: 0.0013 | R: 0.0270 | F1: 0.0024\n",
      "Micro → P: 0.0469 | R: 0.0469 | F1: 0.0469\n",
      "\n",
      "\n",
      "📈 Saved latest metrics plot at epoch 12\n",
      "🔄 Saved latest confusion matrices at epoch 12\n",
      "📊 Saved latest performance plots at epoch 12\n",
      "📈 Saved best metrics plot at epoch 12\n",
      "🔄 Saved best confusion matrices at epoch 12\n",
      "📊 Saved best performance plots at epoch 12\n",
      "📝 Saved latest model at epoch 12\n",
      "🏆 Saved best model at epoch 12\n",
      "\n",
      "──────────────────────────────────────────────────\n",
      "⏳ Epoch 13/1000\n",
      "──────────────────────────────────────────────────\n"
     ]
    },
    {
     "name": "stderr",
     "output_type": "stream",
     "text": [
      "Training: 100%|██████████| 63/63 [01:23<00:00,  1.32s/it]\n",
      "Evaluating (val): 100%|██████████| 8/8 [00:03<00:00,  2.15it/s]\n"
     ]
    },
    {
     "name": "stdout",
     "output_type": "stream",
     "text": [
      "\n",
      "📊 Train Metrics:\n",
      "Loss: 3.6033 | Accuracy: 0.0422\n",
      "Macro → P: 0.0129 | R: 0.0266 | F1: 0.0065\n",
      "Micro → P: 0.0422 | R: 0.0422 | F1: 0.0422\n",
      "\n",
      "\n",
      "\n",
      "📊 Validation Metrics:\n",
      "Loss: 3.6004 | Accuracy: 0.0469\n",
      "Macro → P: 0.0013 | R: 0.0270 | F1: 0.0024\n",
      "Micro → P: 0.0469 | R: 0.0469 | F1: 0.0469\n",
      "\n",
      "\n",
      "📈 Saved latest metrics plot at epoch 13\n",
      "🔄 Saved latest confusion matrices at epoch 13\n",
      "📊 Saved latest performance plots at epoch 13\n",
      "📝 Saved latest model at epoch 13\n",
      "\n",
      "──────────────────────────────────────────────────\n",
      "⏳ Epoch 14/1000\n",
      "──────────────────────────────────────────────────\n"
     ]
    },
    {
     "name": "stderr",
     "output_type": "stream",
     "text": [
      "Training: 100%|██████████| 63/63 [01:22<00:00,  1.32s/it]\n",
      "Evaluating (val): 100%|██████████| 8/8 [00:03<00:00,  2.22it/s]\n"
     ]
    },
    {
     "name": "stdout",
     "output_type": "stream",
     "text": [
      "\n",
      "📊 Train Metrics:\n",
      "Loss: 3.6027 | Accuracy: 0.0441\n",
      "Macro → P: 0.0053 | R: 0.0274 | F1: 0.0052\n",
      "Micro → P: 0.0441 | R: 0.0441 | F1: 0.0441\n",
      "\n",
      "\n",
      "\n",
      "📊 Validation Metrics:\n",
      "Loss: 3.5997 | Accuracy: 0.0469\n",
      "Macro → P: 0.0013 | R: 0.0270 | F1: 0.0024\n",
      "Micro → P: 0.0469 | R: 0.0469 | F1: 0.0469\n",
      "\n",
      "\n",
      "📈 Saved latest metrics plot at epoch 14\n",
      "🔄 Saved latest confusion matrices at epoch 14\n",
      "📊 Saved latest performance plots at epoch 14\n",
      "📝 Saved latest model at epoch 14\n",
      "\n",
      "──────────────────────────────────────────────────\n",
      "⏳ Epoch 15/1000\n",
      "──────────────────────────────────────────────────\n"
     ]
    },
    {
     "name": "stderr",
     "output_type": "stream",
     "text": [
      "Training: 100%|██████████| 63/63 [00:27<00:00,  2.27it/s]\n",
      "Evaluating (val): 100%|██████████| 8/8 [00:01<00:00,  7.18it/s]\n"
     ]
    },
    {
     "name": "stdout",
     "output_type": "stream",
     "text": [
      "\n",
      "📊 Train Metrics:\n",
      "Loss: 3.6042 | Accuracy: 0.0357\n",
      "Macro → P: 0.0052 | R: 0.0239 | F1: 0.0084\n",
      "Micro → P: 0.0357 | R: 0.0357 | F1: 0.0357\n",
      "\n",
      "\n",
      "\n",
      "📊 Validation Metrics:\n",
      "Loss: 3.6023 | Accuracy: 0.0469\n",
      "Macro → P: 0.0013 | R: 0.0270 | F1: 0.0024\n",
      "Micro → P: 0.0469 | R: 0.0469 | F1: 0.0469\n",
      "\n",
      "\n",
      "📈 Saved latest metrics plot at epoch 15\n",
      "🔄 Saved latest confusion matrices at epoch 15\n",
      "📊 Saved latest performance plots at epoch 15\n",
      "📝 Saved latest model at epoch 15\n",
      "\n",
      "──────────────────────────────────────────────────\n",
      "⏳ Epoch 16/1000\n",
      "──────────────────────────────────────────────────\n"
     ]
    },
    {
     "name": "stderr",
     "output_type": "stream",
     "text": [
      "Training: 100%|██████████| 63/63 [00:41<00:00,  1.52it/s]\n",
      "Evaluating (val): 100%|██████████| 8/8 [00:03<00:00,  2.17it/s]\n"
     ]
    },
    {
     "name": "stdout",
     "output_type": "stream",
     "text": [
      "\n",
      "📊 Train Metrics:\n",
      "Loss: 3.6062 | Accuracy: 0.0382\n",
      "Macro → P: 0.0030 | R: 0.0244 | F1: 0.0052\n",
      "Micro → P: 0.0382 | R: 0.0382 | F1: 0.0382\n",
      "\n",
      "\n",
      "\n",
      "📊 Validation Metrics:\n",
      "Loss: 3.6027 | Accuracy: 0.0469\n",
      "Macro → P: 0.0013 | R: 0.0270 | F1: 0.0024\n",
      "Micro → P: 0.0469 | R: 0.0469 | F1: 0.0469\n",
      "\n",
      "\n",
      "📈 Saved latest metrics plot at epoch 16\n",
      "🔄 Saved latest confusion matrices at epoch 16\n",
      "📊 Saved latest performance plots at epoch 16\n",
      "📝 Saved latest model at epoch 16\n",
      "\n",
      "──────────────────────────────────────────────────\n",
      "⏳ Epoch 17/1000\n",
      "──────────────────────────────────────────────────\n"
     ]
    },
    {
     "name": "stderr",
     "output_type": "stream",
     "text": [
      "Training: 100%|██████████| 63/63 [01:21<00:00,  1.29s/it]\n",
      "Evaluating (val): 100%|██████████| 8/8 [00:03<00:00,  2.23it/s]\n"
     ]
    },
    {
     "name": "stdout",
     "output_type": "stream",
     "text": [
      "\n",
      "📊 Train Metrics:\n",
      "Loss: 3.6041 | Accuracy: 0.0397\n",
      "Macro → P: 0.0055 | R: 0.0251 | F1: 0.0072\n",
      "Micro → P: 0.0397 | R: 0.0397 | F1: 0.0397\n",
      "\n",
      "\n",
      "\n",
      "📊 Validation Metrics:\n",
      "Loss: 3.6009 | Accuracy: 0.0469\n",
      "Macro → P: 0.0013 | R: 0.0270 | F1: 0.0024\n",
      "Micro → P: 0.0469 | R: 0.0469 | F1: 0.0469\n",
      "\n",
      "\n",
      "📈 Saved latest metrics plot at epoch 17\n",
      "🔄 Saved latest confusion matrices at epoch 17\n",
      "📊 Saved latest performance plots at epoch 17\n",
      "📝 Saved latest model at epoch 17\n",
      "\n",
      "──────────────────────────────────────────────────\n",
      "⏳ Epoch 18/1000\n",
      "──────────────────────────────────────────────────\n"
     ]
    },
    {
     "name": "stderr",
     "output_type": "stream",
     "text": [
      "Training: 100%|██████████| 63/63 [00:28<00:00,  2.25it/s]\n",
      "Evaluating (val): 100%|██████████| 8/8 [00:01<00:00,  6.82it/s]\n"
     ]
    },
    {
     "name": "stdout",
     "output_type": "stream",
     "text": [
      "\n",
      "📊 Train Metrics:\n",
      "Loss: 3.6041 | Accuracy: 0.0332\n",
      "Macro → P: 0.0047 | R: 0.0211 | F1: 0.0062\n",
      "Micro → P: 0.0332 | R: 0.0332 | F1: 0.0332\n",
      "\n",
      "\n",
      "\n",
      "📊 Validation Metrics:\n",
      "Loss: 3.5994 | Accuracy: 0.0469\n",
      "Macro → P: 0.0013 | R: 0.0270 | F1: 0.0024\n",
      "Micro → P: 0.0469 | R: 0.0469 | F1: 0.0469\n",
      "\n",
      "\n",
      "📈 Saved latest metrics plot at epoch 18\n",
      "🔄 Saved latest confusion matrices at epoch 18\n",
      "📊 Saved latest performance plots at epoch 18\n",
      "📈 Saved best metrics plot at epoch 18\n",
      "🔄 Saved best confusion matrices at epoch 18\n",
      "📊 Saved best performance plots at epoch 18\n",
      "📝 Saved latest model at epoch 18\n",
      "🏆 Saved best model at epoch 18\n",
      "\n",
      "──────────────────────────────────────────────────\n",
      "⏳ Epoch 19/1000\n",
      "──────────────────────────────────────────────────\n"
     ]
    },
    {
     "name": "stderr",
     "output_type": "stream",
     "text": [
      "Training: 100%|██████████| 63/63 [00:28<00:00,  2.22it/s]\n",
      "Evaluating (val): 100%|██████████| 8/8 [00:01<00:00,  6.36it/s]\n"
     ]
    },
    {
     "name": "stdout",
     "output_type": "stream",
     "text": [
      "\n",
      "📊 Train Metrics:\n",
      "Loss: 3.6038 | Accuracy: 0.0471\n",
      "Macro → P: 0.0044 | R: 0.0294 | F1: 0.0065\n",
      "Micro → P: 0.0471 | R: 0.0471 | F1: 0.0471\n",
      "\n",
      "\n",
      "\n",
      "📊 Validation Metrics:\n",
      "Loss: 3.6000 | Accuracy: 0.0430\n",
      "Macro → P: 0.0012 | R: 0.0270 | F1: 0.0022\n",
      "Micro → P: 0.0430 | R: 0.0430 | F1: 0.0430\n",
      "\n",
      "\n",
      "📈 Saved latest metrics plot at epoch 19\n",
      "🔄 Saved latest confusion matrices at epoch 19\n",
      "📊 Saved latest performance plots at epoch 19\n",
      "📝 Saved latest model at epoch 19\n",
      "\n",
      "──────────────────────────────────────────────────\n",
      "⏳ Epoch 20/1000\n",
      "──────────────────────────────────────────────────\n"
     ]
    },
    {
     "name": "stderr",
     "output_type": "stream",
     "text": [
      "Training: 100%|██████████| 63/63 [00:55<00:00,  1.14it/s]\n",
      "Evaluating (val): 100%|██████████| 8/8 [00:03<00:00,  2.01it/s]\n"
     ]
    },
    {
     "name": "stdout",
     "output_type": "stream",
     "text": [
      "\n",
      "📊 Train Metrics:\n",
      "Loss: 3.6036 | Accuracy: 0.0407\n",
      "Macro → P: 0.0037 | R: 0.0262 | F1: 0.0061\n",
      "Micro → P: 0.0407 | R: 0.0407 | F1: 0.0407\n",
      "\n",
      "\n",
      "\n",
      "📊 Validation Metrics:\n",
      "Loss: 3.5985 | Accuracy: 0.0469\n",
      "Macro → P: 0.0013 | R: 0.0270 | F1: 0.0024\n",
      "Micro → P: 0.0469 | R: 0.0469 | F1: 0.0469\n",
      "\n",
      "\n",
      "📈 Saved latest metrics plot at epoch 20\n",
      "🔄 Saved latest confusion matrices at epoch 20\n",
      "📊 Saved latest performance plots at epoch 20\n",
      "📈 Saved checkpoint metrics plot at epoch 20\n",
      "🔄 Saved checkpoint confusion matrices at epoch 20\n",
      "📊 Saved checkpoint performance plots at epoch 20\n",
      "📈 Saved best metrics plot at epoch 20\n",
      "🔄 Saved best confusion matrices at epoch 20\n",
      "📊 Saved best performance plots at epoch 20\n",
      "📝 Saved latest model at epoch 20\n",
      "💾 Saved checkpoint at epoch 20\n",
      "🏆 Saved best model at epoch 20\n",
      "\n",
      "──────────────────────────────────────────────────\n",
      "⏳ Epoch 21/1000\n",
      "──────────────────────────────────────────────────\n"
     ]
    },
    {
     "name": "stderr",
     "output_type": "stream",
     "text": [
      "Training: 100%|██████████| 63/63 [01:21<00:00,  1.30s/it]\n",
      "Evaluating (val): 100%|██████████| 8/8 [00:03<00:00,  2.16it/s]\n"
     ]
    },
    {
     "name": "stdout",
     "output_type": "stream",
     "text": [
      "\n",
      "📊 Train Metrics:\n",
      "Loss: 3.6018 | Accuracy: 0.0471\n",
      "Macro → P: 0.0044 | R: 0.0299 | F1: 0.0072\n",
      "Micro → P: 0.0471 | R: 0.0471 | F1: 0.0471\n",
      "\n",
      "\n",
      "\n",
      "📊 Validation Metrics:\n",
      "Loss: 3.5995 | Accuracy: 0.0469\n",
      "Macro → P: 0.0013 | R: 0.0270 | F1: 0.0024\n",
      "Micro → P: 0.0469 | R: 0.0469 | F1: 0.0469\n",
      "\n",
      "\n",
      "📈 Saved latest metrics plot at epoch 21\n",
      "🔄 Saved latest confusion matrices at epoch 21\n",
      "📊 Saved latest performance plots at epoch 21\n",
      "📝 Saved latest model at epoch 21\n",
      "\n",
      "──────────────────────────────────────────────────\n",
      "⏳ Epoch 22/1000\n",
      "──────────────────────────────────────────────────\n"
     ]
    },
    {
     "name": "stderr",
     "output_type": "stream",
     "text": [
      "Training: 100%|██████████| 63/63 [01:22<00:00,  1.30s/it]\n",
      "Evaluating (val): 100%|██████████| 8/8 [00:03<00:00,  2.29it/s]\n"
     ]
    },
    {
     "name": "stdout",
     "output_type": "stream",
     "text": [
      "\n",
      "📊 Train Metrics:\n",
      "Loss: 3.6028 | Accuracy: 0.0377\n",
      "Macro → P: 0.0035 | R: 0.0239 | F1: 0.0058\n",
      "Micro → P: 0.0377 | R: 0.0377 | F1: 0.0377\n",
      "\n",
      "\n",
      "\n",
      "📊 Validation Metrics:\n",
      "Loss: 3.6031 | Accuracy: 0.0469\n",
      "Macro → P: 0.0013 | R: 0.0270 | F1: 0.0024\n",
      "Micro → P: 0.0469 | R: 0.0469 | F1: 0.0469\n",
      "\n",
      "\n",
      "📈 Saved latest metrics plot at epoch 22\n",
      "🔄 Saved latest confusion matrices at epoch 22\n",
      "📊 Saved latest performance plots at epoch 22\n",
      "📝 Saved latest model at epoch 22\n",
      "\n",
      "──────────────────────────────────────────────────\n",
      "⏳ Epoch 23/1000\n",
      "──────────────────────────────────────────────────\n"
     ]
    },
    {
     "name": "stderr",
     "output_type": "stream",
     "text": [
      "Training: 100%|██████████| 63/63 [01:19<00:00,  1.27s/it]\n",
      "Evaluating (val): 100%|██████████| 8/8 [00:03<00:00,  2.30it/s]\n"
     ]
    },
    {
     "name": "stdout",
     "output_type": "stream",
     "text": [
      "\n",
      "📊 Train Metrics:\n",
      "Loss: 3.6041 | Accuracy: 0.0397\n",
      "Macro → P: 0.0066 | R: 0.0258 | F1: 0.0082\n",
      "Micro → P: 0.0397 | R: 0.0397 | F1: 0.0397\n",
      "\n",
      "\n",
      "\n",
      "📊 Validation Metrics:\n",
      "Loss: 3.5987 | Accuracy: 0.0469\n",
      "Macro → P: 0.0013 | R: 0.0270 | F1: 0.0024\n",
      "Micro → P: 0.0469 | R: 0.0469 | F1: 0.0469\n",
      "\n",
      "\n",
      "📈 Saved latest metrics plot at epoch 23\n",
      "🔄 Saved latest confusion matrices at epoch 23\n",
      "📊 Saved latest performance plots at epoch 23\n",
      "📝 Saved latest model at epoch 23\n",
      "\n",
      "──────────────────────────────────────────────────\n",
      "⏳ Epoch 24/1000\n",
      "──────────────────────────────────────────────────\n"
     ]
    },
    {
     "name": "stderr",
     "output_type": "stream",
     "text": [
      "Training: 100%|██████████| 63/63 [00:26<00:00,  2.42it/s]\n",
      "Evaluating (val): 100%|██████████| 8/8 [00:01<00:00,  7.50it/s]\n"
     ]
    },
    {
     "name": "stdout",
     "output_type": "stream",
     "text": [
      "\n",
      "📊 Train Metrics:\n",
      "Loss: 3.6052 | Accuracy: 0.0337\n",
      "Macro → P: 0.0037 | R: 0.0218 | F1: 0.0062\n",
      "Micro → P: 0.0337 | R: 0.0337 | F1: 0.0337\n",
      "\n",
      "\n",
      "\n",
      "📊 Validation Metrics:\n",
      "Loss: 3.6007 | Accuracy: 0.0430\n",
      "Macro → P: 0.0012 | R: 0.0270 | F1: 0.0022\n",
      "Micro → P: 0.0430 | R: 0.0430 | F1: 0.0430\n",
      "\n",
      "\n",
      "📈 Saved latest metrics plot at epoch 24\n",
      "🔄 Saved latest confusion matrices at epoch 24\n",
      "📊 Saved latest performance plots at epoch 24\n",
      "📝 Saved latest model at epoch 24\n",
      "\n",
      "──────────────────────────────────────────────────\n",
      "⏳ Epoch 25/1000\n",
      "──────────────────────────────────────────────────\n"
     ]
    },
    {
     "name": "stderr",
     "output_type": "stream",
     "text": [
      "Training: 100%|██████████| 63/63 [00:37<00:00,  1.69it/s]\n",
      "Evaluating (val): 100%|██████████| 8/8 [00:03<00:00,  2.15it/s]\n"
     ]
    },
    {
     "name": "stdout",
     "output_type": "stream",
     "text": [
      "\n",
      "📊 Train Metrics:\n",
      "Loss: 3.6057 | Accuracy: 0.0382\n",
      "Macro → P: 0.0039 | R: 0.0245 | F1: 0.0066\n",
      "Micro → P: 0.0382 | R: 0.0382 | F1: 0.0382\n",
      "\n",
      "\n",
      "\n",
      "📊 Validation Metrics:\n",
      "Loss: 3.5997 | Accuracy: 0.0469\n",
      "Macro → P: 0.0013 | R: 0.0270 | F1: 0.0024\n",
      "Micro → P: 0.0469 | R: 0.0469 | F1: 0.0469\n",
      "\n",
      "\n",
      "📈 Saved latest metrics plot at epoch 25\n",
      "🔄 Saved latest confusion matrices at epoch 25\n",
      "📊 Saved latest performance plots at epoch 25\n",
      "📝 Saved latest model at epoch 25\n",
      "\n",
      "──────────────────────────────────────────────────\n",
      "⏳ Epoch 26/1000\n",
      "──────────────────────────────────────────────────\n"
     ]
    },
    {
     "name": "stderr",
     "output_type": "stream",
     "text": [
      "Training: 100%|██████████| 63/63 [01:22<00:00,  1.31s/it]\n",
      "Evaluating (val): 100%|██████████| 8/8 [00:03<00:00,  2.16it/s]\n"
     ]
    },
    {
     "name": "stdout",
     "output_type": "stream",
     "text": [
      "\n",
      "📊 Train Metrics:\n",
      "Loss: 3.6045 | Accuracy: 0.0377\n",
      "Macro → P: 0.0038 | R: 0.0238 | F1: 0.0057\n",
      "Micro → P: 0.0377 | R: 0.0377 | F1: 0.0377\n",
      "\n",
      "\n",
      "\n",
      "📊 Validation Metrics:\n",
      "Loss: 3.5997 | Accuracy: 0.0469\n",
      "Macro → P: 0.0013 | R: 0.0270 | F1: 0.0024\n",
      "Micro → P: 0.0469 | R: 0.0469 | F1: 0.0469\n",
      "\n",
      "\n",
      "📈 Saved latest metrics plot at epoch 26\n",
      "🔄 Saved latest confusion matrices at epoch 26\n",
      "📊 Saved latest performance plots at epoch 26\n",
      "📝 Saved latest model at epoch 26\n",
      "\n",
      "──────────────────────────────────────────────────\n",
      "⏳ Epoch 27/1000\n",
      "──────────────────────────────────────────────────\n"
     ]
    },
    {
     "name": "stderr",
     "output_type": "stream",
     "text": [
      "Training: 100%|██████████| 63/63 [01:22<00:00,  1.31s/it]\n",
      "Evaluating (val): 100%|██████████| 8/8 [00:03<00:00,  2.15it/s]\n"
     ]
    },
    {
     "name": "stdout",
     "output_type": "stream",
     "text": [
      "\n",
      "📊 Train Metrics:\n",
      "Loss: 3.6030 | Accuracy: 0.0427\n",
      "Macro → P: 0.0047 | R: 0.0273 | F1: 0.0077\n",
      "Micro → P: 0.0427 | R: 0.0427 | F1: 0.0427\n",
      "\n",
      "\n",
      "\n",
      "📊 Validation Metrics:\n",
      "Loss: 3.5995 | Accuracy: 0.0469\n",
      "Macro → P: 0.0013 | R: 0.0270 | F1: 0.0024\n",
      "Micro → P: 0.0469 | R: 0.0469 | F1: 0.0469\n",
      "\n",
      "\n",
      "📈 Saved latest metrics plot at epoch 27\n",
      "🔄 Saved latest confusion matrices at epoch 27\n",
      "📊 Saved latest performance plots at epoch 27\n",
      "📝 Saved latest model at epoch 27\n",
      "\n",
      "──────────────────────────────────────────────────\n",
      "⏳ Epoch 28/1000\n",
      "──────────────────────────────────────────────────\n"
     ]
    },
    {
     "name": "stderr",
     "output_type": "stream",
     "text": [
      "Training:  81%|████████  | 51/63 [01:09<00:16,  1.36s/it]\n"
     ]
    },
    {
     "ename": "KeyboardInterrupt",
     "evalue": "",
     "output_type": "error",
     "traceback": [
      "\u001b[1;31m---------------------------------------------------------------------------\u001b[0m",
      "\u001b[1;31mKeyboardInterrupt\u001b[0m                         Traceback (most recent call last)",
      "Cell \u001b[1;32mIn[3], line 6\u001b[0m\n\u001b[0;32m      1\u001b[0m trainer \u001b[38;5;241m=\u001b[39m Trainer(\n\u001b[0;32m      2\u001b[0m     config\u001b[38;5;241m=\u001b[39mconfig\n\u001b[0;32m      3\u001b[0m )\n\u001b[0;32m      5\u001b[0m \u001b[38;5;66;03m# Train model\u001b[39;00m\n\u001b[1;32m----> 6\u001b[0m metrics_history \u001b[38;5;241m=\u001b[39m \u001b[43mtrainer\u001b[49m\u001b[38;5;241;43m.\u001b[39;49m\u001b[43mtrain\u001b[49m\u001b[43m(\u001b[49m\u001b[43m)\u001b[49m\n",
      "File \u001b[1;32md:\\Program\\Py\\project\\Multi_turn\\exp\\trainer.py:796\u001b[0m, in \u001b[0;36mTrainer.train\u001b[1;34m(self)\u001b[0m\n\u001b[0;32m    793\u001b[0m \u001b[38;5;28mprint\u001b[39m(\u001b[38;5;124mf\u001b[39m\u001b[38;5;124m\"\u001b[39m\u001b[38;5;132;01m{\u001b[39;00m\u001b[38;5;124m'\u001b[39m\u001b[38;5;124m─\u001b[39m\u001b[38;5;124m'\u001b[39m\u001b[38;5;241m*\u001b[39m\u001b[38;5;241m50\u001b[39m\u001b[38;5;132;01m}\u001b[39;00m\u001b[38;5;124m\"\u001b[39m)\n\u001b[0;32m    795\u001b[0m \u001b[38;5;66;03m# Training and validation phases\u001b[39;00m\n\u001b[1;32m--> 796\u001b[0m train_metrics, train_preds, train_labels \u001b[38;5;241m=\u001b[39m \u001b[38;5;28mself\u001b[39m\u001b[38;5;241m.\u001b[39mtrain_epoch()\n\u001b[0;32m    797\u001b[0m val_metrics, val_preds, val_labels \u001b[38;5;241m=\u001b[39m \u001b[38;5;28mself\u001b[39m\u001b[38;5;241m.\u001b[39mevaluate(\n\u001b[0;32m    798\u001b[0m     \u001b[38;5;28mself\u001b[39m\u001b[38;5;241m.\u001b[39mval_loader, \u001b[38;5;124m'\u001b[39m\u001b[38;5;124mval\u001b[39m\u001b[38;5;124m'\u001b[39m)\n\u001b[0;32m    800\u001b[0m \u001b[38;5;66;03m# Print metrics for both phases\u001b[39;00m\n",
      "File \u001b[1;32md:\\Program\\Py\\project\\Multi_turn\\exp\\trainer.py:902\u001b[0m, in \u001b[0;36mtrain_epoch\u001b[1;34m(self)\u001b[0m\n\u001b[0;32m    896\u001b[0m \u001b[38;5;28;01mif\u001b[39;00m \u001b[38;5;28mself\u001b[39m\u001b[38;5;241m.\u001b[39mconfig\u001b[38;5;241m.\u001b[39mtraining_settings\u001b[38;5;241m.\u001b[39mgradient_clip:\n\u001b[0;32m    897\u001b[0m     torch\u001b[38;5;241m.\u001b[39mnn\u001b[38;5;241m.\u001b[39mutils\u001b[38;5;241m.\u001b[39mclip_grad_norm_(\n\u001b[0;32m    898\u001b[0m         \u001b[38;5;28mself\u001b[39m\u001b[38;5;241m.\u001b[39mmodel\u001b[38;5;241m.\u001b[39mparameters(),\n\u001b[0;32m    899\u001b[0m         \u001b[38;5;28mself\u001b[39m\u001b[38;5;241m.\u001b[39mconfig\u001b[38;5;241m.\u001b[39mtraining_settings\u001b[38;5;241m.\u001b[39mgradient_clip\n\u001b[0;32m    900\u001b[0m     )\n\u001b[1;32m--> 902\u001b[0m \u001b[38;5;28mself\u001b[39m\u001b[38;5;241m.\u001b[39moptimizer\u001b[38;5;241m.\u001b[39mstep()\n\u001b[0;32m    904\u001b[0m \u001b[38;5;66;03m# Update metrics\u001b[39;00m\n\u001b[0;32m    905\u001b[0m batch_size \u001b[38;5;241m=\u001b[39m inputs\u001b[38;5;241m.\u001b[39msize(\u001b[38;5;241m0\u001b[39m)\n",
      "\u001b[1;31mKeyboardInterrupt\u001b[0m: "
     ]
    }
   ],
   "source": [
    "trainer = Trainer(\n",
    "    config=config\n",
    ")\n",
    "\n",
    "# Train model\n",
    "metrics_history = trainer.train()"
   ]
  }
 ],
 "metadata": {
  "kernelspec": {
   "display_name": "Python 3",
   "language": "python",
   "name": "python3"
  },
  "language_info": {
   "codemirror_mode": {
    "name": "ipython",
    "version": 3
   },
   "file_extension": ".py",
   "mimetype": "text/x-python",
   "name": "python",
   "nbconvert_exporter": "python",
   "pygments_lexer": "ipython3",
   "version": "3.10.16"
  }
 },
 "nbformat": 4,
 "nbformat_minor": 5
}
